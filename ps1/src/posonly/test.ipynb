{
 "cells": [
  {
   "cell_type": "code",
   "execution_count": 42,
   "metadata": {},
   "outputs": [
    {
     "data": {
      "text/plain": [
       "'/Users/quocdetran/Documents/HUST/CS229_homework/ps1/src/posonly'"
      ]
     },
     "execution_count": 42,
     "metadata": {},
     "output_type": "execute_result"
    }
   ],
   "source": [
    "import sys\n",
    "import os\n",
    "os.getcwd()\n",
    "# sys.path.pop()"
   ]
  },
  {
   "cell_type": "code",
   "execution_count": 23,
   "metadata": {},
   "outputs": [
    {
     "data": {
      "text/plain": [
       "array([[ 1.        , -1.54831899, -2.76298744],\n",
       "       [ 1.        , -3.95886967, -0.6127805 ],\n",
       "       [ 1.        , -2.27637464,  0.61493359],\n",
       "       ...,\n",
       "       [ 1.        ,  1.10777214,  1.62589313],\n",
       "       [ 1.        ,  1.46109326,  0.55889854],\n",
       "       [ 1.        ,  0.93522112,  2.9003691 ]])"
      ]
     },
     "execution_count": 23,
     "metadata": {},
     "output_type": "execute_result"
    }
   ],
   "source": [
    "import numpy as np\n",
    "import pandas as pd\n",
    "import util\n",
    "x = util.load_dataset(\"train.csv\",add_intercept=True)\n",
    "x[0]\n"
   ]
  },
  {
   "cell_type": "code",
   "execution_count": 16,
   "metadata": {},
   "outputs": [
    {
     "name": "stdout",
     "output_type": "stream",
     "text": [
      "     t       x_1       x_2  y\n",
      "0  0.0 -1.548319 -2.762987  0\n",
      "1  0.0 -3.958870 -0.612780  0\n",
      "2  0.0 -2.276375  0.614934  0\n",
      "3  0.0  0.556287 -3.931406  0\n",
      "4  0.0 -1.491000 -2.159297  0\n",
      "(1250, 4)\n"
     ]
    }
   ],
   "source": [
    "y = pd.read_csv(\"train.csv\")\n",
    "print(y.head())\n",
    "print(y.shape)"
   ]
  },
  {
   "cell_type": "code",
   "execution_count": 44,
   "metadata": {},
   "outputs": [
    {
     "data": {
      "text/plain": [
       "(12, 3)"
      ]
     },
     "execution_count": 44,
     "metadata": {},
     "output_type": "execute_result"
    }
   ],
   "source": [
    "x_val , y_val = util.load_dataset('valid.csv',add_intercept=True)\n",
    "mask = y_val == 1\n",
    "x_val[mask].shape"
   ]
  },
  {
   "cell_type": "code",
   "execution_count": null,
   "metadata": {},
   "outputs": [],
   "source": []
  }
 ],
 "metadata": {
  "kernelspec": {
   "display_name": "Python 3",
   "language": "python",
   "name": "python3"
  },
  "language_info": {
   "codemirror_mode": {
    "name": "ipython",
    "version": 3
   },
   "file_extension": ".py",
   "mimetype": "text/x-python",
   "name": "python",
   "nbconvert_exporter": "python",
   "pygments_lexer": "ipython3",
   "version": "3.9.13"
  },
  "orig_nbformat": 4
 },
 "nbformat": 4,
 "nbformat_minor": 2
}
